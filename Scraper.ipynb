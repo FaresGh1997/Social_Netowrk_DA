{
 "cells": [
  {
   "cell_type": "markdown",
   "id": "9e371e90",
   "metadata": {},
   "source": [
    "### Scraper Code\n",
    "##### using Selenium and chromedriver"
   ]
  },
  {
   "cell_type": "markdown",
   "id": "f73ecd02",
   "metadata": {},
   "source": [
    "this code is based upon the work presented in this articale https://medium.com/analytics-vidhya/read-your-network-of-friends-in-facebook-by-scraping-with-python-a012adabb713 by 'Rubén Chuliá Mena', with some changes becuase of the continues changing in Facebook privacy policy and Facebook pages structure"
   ]
  },
  {
   "cell_type": "markdown",
   "id": "ad51a2a3",
   "metadata": {},
   "source": [
    "install selenuim"
   ]
  },
  {
   "cell_type": "code",
   "execution_count": 1,
   "id": "388b5807",
   "metadata": {},
   "outputs": [
    {
     "name": "stdout",
     "output_type": "stream",
     "text": [
      "Requirement already satisfied: selenium in c:\\programdata\\anaconda3\\lib\\site-packages (4.1.3)\n",
      "Requirement already satisfied: trio~=0.17 in c:\\programdata\\anaconda3\\lib\\site-packages (from selenium) (0.20.0)\n",
      "Requirement already satisfied: urllib3[secure,socks]~=1.26 in c:\\programdata\\anaconda3\\lib\\site-packages (from selenium) (1.26.7)\n",
      "Requirement already satisfied: trio-websocket~=0.9 in c:\\programdata\\anaconda3\\lib\\site-packages (from selenium) (0.9.2)\n",
      "Requirement already satisfied: outcome in c:\\programdata\\anaconda3\\lib\\site-packages (from trio~=0.17->selenium) (1.1.0)\n",
      "Requirement already satisfied: cffi>=1.14 in c:\\programdata\\anaconda3\\lib\\site-packages (from trio~=0.17->selenium) (1.14.6)\n",
      "Requirement already satisfied: attrs>=19.2.0 in c:\\programdata\\anaconda3\\lib\\site-packages (from trio~=0.17->selenium) (21.2.0)\n",
      "Requirement already satisfied: sortedcontainers in c:\\programdata\\anaconda3\\lib\\site-packages (from trio~=0.17->selenium) (2.4.0)\n",
      "Requirement already satisfied: async-generator>=1.9 in c:\\programdata\\anaconda3\\lib\\site-packages (from trio~=0.17->selenium) (1.10)\n",
      "Requirement already satisfied: sniffio in c:\\programdata\\anaconda3\\lib\\site-packages (from trio~=0.17->selenium) (1.2.0)\n",
      "Requirement already satisfied: idna in c:\\programdata\\anaconda3\\lib\\site-packages (from trio~=0.17->selenium) (3.2)\n",
      "Requirement already satisfied: pycparser in c:\\programdata\\anaconda3\\lib\\site-packages (from cffi>=1.14->trio~=0.17->selenium) (2.20)\n",
      "Requirement already satisfied: wsproto>=0.14 in c:\\programdata\\anaconda3\\lib\\site-packages (from trio-websocket~=0.9->selenium) (1.1.0)\n",
      "Requirement already satisfied: PySocks!=1.5.7,<2.0,>=1.5.6 in c:\\programdata\\anaconda3\\lib\\site-packages (from urllib3[secure,socks]~=1.26->selenium) (1.7.1)\n",
      "Requirement already satisfied: pyOpenSSL>=0.14 in c:\\programdata\\anaconda3\\lib\\site-packages (from urllib3[secure,socks]~=1.26->selenium) (21.0.0)\n",
      "Requirement already satisfied: cryptography>=1.3.4 in c:\\programdata\\anaconda3\\lib\\site-packages (from urllib3[secure,socks]~=1.26->selenium) (3.4.8)\n",
      "Requirement already satisfied: certifi in c:\\programdata\\anaconda3\\lib\\site-packages (from urllib3[secure,socks]~=1.26->selenium) (2021.10.8)\n",
      "Requirement already satisfied: six>=1.5.2 in c:\\programdata\\anaconda3\\lib\\site-packages (from pyOpenSSL>=0.14->urllib3[secure,socks]~=1.26->selenium) (1.16.0)\n",
      "Requirement already satisfied: h11<1,>=0.9.0 in c:\\programdata\\anaconda3\\lib\\site-packages (from wsproto>=0.14->trio-websocket~=0.9->selenium) (0.13.0)\n"
     ]
    },
    {
     "name": "stderr",
     "output_type": "stream",
     "text": [
      "WARNING: Ignoring invalid distribution -etworkx (c:\\programdata\\anaconda3\\lib\\site-packages)\n",
      "WARNING: Ignoring invalid distribution -etworkx (c:\\programdata\\anaconda3\\lib\\site-packages)\n",
      "WARNING: Ignoring invalid distribution -etworkx (c:\\programdata\\anaconda3\\lib\\site-packages)\n",
      "WARNING: Ignoring invalid distribution -etworkx (c:\\programdata\\anaconda3\\lib\\site-packages)\n",
      "WARNING: Ignoring invalid distribution -etworkx (c:\\programdata\\anaconda3\\lib\\site-packages)\n",
      "WARNING: Ignoring invalid distribution -etworkx (c:\\programdata\\anaconda3\\lib\\site-packages)\n"
     ]
    }
   ],
   "source": [
    "!pip install selenium"
   ]
  },
  {
   "cell_type": "markdown",
   "id": "90b1becc",
   "metadata": {},
   "source": [
    "install webdriver_manger"
   ]
  },
  {
   "cell_type": "code",
   "execution_count": 2,
   "id": "76887886",
   "metadata": {},
   "outputs": [
    {
     "name": "stdout",
     "output_type": "stream",
     "text": [
      "Requirement already satisfied: webdriver-manager in c:\\programdata\\anaconda3\\lib\\site-packages (3.5.4)\n"
     ]
    },
    {
     "name": "stderr",
     "output_type": "stream",
     "text": [
      "WARNING: Ignoring invalid distribution -etworkx (c:\\programdata\\anaconda3\\lib\\site-packages)\n",
      "WARNING: Ignoring invalid distribution -etworkx (c:\\programdata\\anaconda3\\lib\\site-packages)\n",
      "WARNING: Ignoring invalid distribution -etworkx (c:\\programdata\\anaconda3\\lib\\site-packages)\n",
      "WARNING: Ignoring invalid distribution -etworkx (c:\\programdata\\anaconda3\\lib\\site-packages)\n",
      "WARNING: Ignoring invalid distribution -etworkx (c:\\programdata\\anaconda3\\lib\\site-packages)\n",
      "WARNING: Ignoring invalid distribution -etworkx (c:\\programdata\\anaconda3\\lib\\site-packages)\n"
     ]
    },
    {
     "name": "stdout",
     "output_type": "stream",
     "text": [
      "Requirement already satisfied: requests in c:\\programdata\\anaconda3\\lib\\site-packages (from webdriver-manager) (2.26.0)\n",
      "Requirement already satisfied: charset-normalizer~=2.0.0 in c:\\programdata\\anaconda3\\lib\\site-packages (from requests->webdriver-manager) (2.0.4)\n",
      "Requirement already satisfied: urllib3<1.27,>=1.21.1 in c:\\programdata\\anaconda3\\lib\\site-packages (from requests->webdriver-manager) (1.26.7)\n",
      "Requirement already satisfied: idna<4,>=2.5 in c:\\programdata\\anaconda3\\lib\\site-packages (from requests->webdriver-manager) (3.2)\n",
      "Requirement already satisfied: certifi>=2017.4.17 in c:\\programdata\\anaconda3\\lib\\site-packages (from requests->webdriver-manager) (2021.10.8)\n"
     ]
    }
   ],
   "source": [
    "!pip install webdriver-manager"
   ]
  },
  {
   "cell_type": "code",
   "execution_count": 29,
   "id": "6e00894a",
   "metadata": {},
   "outputs": [],
   "source": [
    "from selenium import webdriver\n",
    "from webdriver_manager.chrome import ChromeDriverManager\n",
    "#initiate\n",
    "driver = webdriver.Chrome()"
   ]
  },
  {
   "cell_type": "code",
   "execution_count": 30,
   "id": "1364f8fb",
   "metadata": {},
   "outputs": [],
   "source": [
    "#get the Page\n",
    "driver.get(\"https://www.facebook.com/\")"
   ]
  },
  {
   "cell_type": "code",
   "execution_count": 31,
   "id": "5167a912",
   "metadata": {},
   "outputs": [],
   "source": [
    "from selenium.webdriver.support.wait import WebDriverWait\n",
    "from selenium.webdriver.support import expected_conditions as EC\n",
    "from selenium.webdriver.common.by import By"
   ]
  },
  {
   "cell_type": "code",
   "execution_count": 32,
   "id": "ccb99ab8",
   "metadata": {},
   "outputs": [],
   "source": [
    "#fill The Login fields\n",
    "user_css_selector = \"input[name='email']\"\n",
    "password_css_selector = \"input[name='pass']\"\n",
    "\n",
    "username_input = WebDriverWait(driver, 10).until(\n",
    "    EC.element_to_be_clickable((By.CSS_SELECTOR, user_css_selector))\n",
    ")\n",
    "password_input = WebDriverWait(driver, 10).until(\n",
    "    EC.element_to_be_clickable((By.CSS_SELECTOR, password_css_selector))\n",
    ")\n",
    "#replace your userName and your Password by there values\n",
    "username_input.clear()\n",
    "username_input.send_keys(\"your userName\")\n",
    "password_input.clear()\n",
    "password_input.send_keys(\"your Password\")"
   ]
  },
  {
   "cell_type": "code",
   "execution_count": 33,
   "id": "39bdbab6",
   "metadata": {},
   "outputs": [],
   "source": [
    "#click login button\n",
    "WebDriverWait(driver, 2).until(\n",
    "    EC.element_to_be_clickable((By.CSS_SELECTOR, \"button[type='submit']\"))\n",
    ").click()"
   ]
  },
  {
   "cell_type": "code",
   "execution_count": 34,
   "id": "f5919da8",
   "metadata": {},
   "outputs": [],
   "source": [
    "import time\n",
    "#wait until page is fully loaded and get the friends list\n",
    "time.sleep(2)\n",
    "driver.get(\"https://www.facebook.com/friends/list\")"
   ]
  },
  {
   "cell_type": "code",
   "execution_count": 35,
   "id": "ad39f7c3",
   "metadata": {},
   "outputs": [],
   "source": [
    "#using GraphQl to emulate http requests to get the list of friends\n",
    "import requests\n",
    "\n",
    "session = requests.session()\n",
    "session.cookies.update({cookie[\"name\"]: cookie[\"value\"] for cookie in driver.get_cookies()})"
   ]
  },
  {
   "cell_type": "code",
   "execution_count": 36,
   "id": "5b7ebe1a",
   "metadata": {},
   "outputs": [],
   "source": [
    "import json\n",
    "import re\n",
    "\n",
    "pattern = r'\\[\"DTSGInitData\",\\[\\],{\"token\":\"\\S+\",\"async_get_token\":\"\\S+?\"},\\d+\\]'\n",
    "match = re.search(pattern, driver.page_source)\n",
    "fb_dtsg_token = json.loads(match.group())[2][\"token\"]"
   ]
  },
  {
   "cell_type": "code",
   "execution_count": 37,
   "id": "8597bc1c",
   "metadata": {},
   "outputs": [],
   "source": [
    "page_info = response_dict[\"data\"][\"viewer\"][\"all_friends\"][\"page_info\"]"
   ]
  },
  {
   "cell_type": "code",
   "execution_count": 38,
   "id": "15b7081a",
   "metadata": {},
   "outputs": [
    {
     "name": "stdout",
     "output_type": "stream",
     "text": [
      "Number of friends: 351\n"
     ]
    }
   ],
   "source": [
    "import urllib\n",
    "page_info = dict(has_next_page=True, end_cursor=None)\n",
    "\n",
    "url = 'https://www.facebook.com/api/graphql/'\n",
    "\n",
    "headers = {\n",
    "    \"accept\": \"*/*\",\n",
    "    \"accept-language\": \"es-ES,es;q=0.9\",\n",
    "    \"content-type\": \"application/x-www-form-urlencoded\",\n",
    "    \"sec-ch-ua\": \"\\\" Not;A Brand\\\";v=\\\"99\\\", \\\"Google Chrome\\\";v=\\\"91\\\", \\\"Chromium\\\";v=\\\"91\\\"\",\n",
    "    \"sec-ch-ua-mobile\": \"?0\",\n",
    "    \"sec-fetch-dest\": \"empty\",\n",
    "    \"sec-fetch-mode\": \"cors\",\n",
    "    \"sec-fetch-site\": \"same-origin\",\n",
    "    \"x-fb-friendly-name\": \"FriendingCometFriendsListPaginationQuery\",\n",
    "    \"referrer\": \"https://www.facebook.com/friends/list\",\n",
    "    \"referrerPolicy\": \"strict-origin-when-cross-origin\",\n",
    "}\n",
    "\n",
    "friends = []\n",
    "\n",
    "while page_info[\"has_next_page\"]:\n",
    "    response = session.post(\n",
    "        url,\n",
    "        headers=headers,\n",
    "        data=urllib.parse.urlencode(\n",
    "            {\n",
    "                \"fb_dtsg\": fb_dtsg_token,\n",
    "                \"fb_api_req_friendly_name\": \"FriendingCometFriendsListPaginationQuery\",\n",
    "                \"variables\": json.dumps(\n",
    "                    {\n",
    "                        \"count\": 30,\n",
    "                        \"cursor\": page_info[\"end_cursor\"],\n",
    "                        \"scale\": 1,\n",
    "                    }\n",
    "                ).replace(\" \", \"\"),\n",
    "                \"doc_id\": 4268740419836267,\n",
    "            }\n",
    "        )\n",
    "    )\n",
    "    \n",
    "    response_dict = json.loads(response.content)\n",
    "    friend_objects = response_dict[\"data\"][\"viewer\"][\"all_friends\"][\"edges\"]\n",
    "\n",
    "    friends += [\n",
    "        dict(\n",
    "            name=friend['node']['name'].replace(' ','_')\n",
    "        )\n",
    "        for friend in friend_objects\n",
    "        if friend[\"node\"][\"__typename\"] == \"User\"\n",
    "    ]\n",
    "    \n",
    "    page_info = response_dict[\"data\"][\"viewer\"][\"all_friends\"][\"page_info\"]\n",
    "    \n",
    "print(f\"Number of friends: {len(friends)}\")"
   ]
  },
  {
   "cell_type": "markdown",
   "id": "201835af",
   "metadata": {},
   "source": [
    "Getting mutual friends section in the code explained in the articale above was used to get mutual friends between profiles in order to get the list of edges, but it does not yield a full list due to facebook privacy policy."
   ]
  },
  {
   "cell_type": "markdown",
   "id": "f98fdb22",
   "metadata": {},
   "source": [
    "##### explination : \n",
    "Q: Why can I no longer see the mutual friends I have with a Friend of mine on Facebook?\n",
    "A: It's because that mutual friend(s) set his Friends List to be private (Only me) so the total number of mutual friends appear but you only see those who have public Friends List."
   ]
  },
  {
   "cell_type": "markdown",
   "id": "233b3688",
   "metadata": {},
   "source": [
    "Thus I foucsed on a portion of the nodes (100 essential nodes that covers most the clusters in my friends , which are obtained from above) that i could manage to get a List of connection for, and for the messing links i added them manualy (based on my knowldge of the people and thier real-world connection)"
   ]
  },
  {
   "cell_type": "code",
   "execution_count": null,
   "id": "beb90bc2",
   "metadata": {},
   "outputs": [],
   "source": [
    "#with open(\"list_friends_network.txt\", \"w\") as outfile:\n",
    "#    json.dump(\n",
    "#        dict(\n",
    "#            friend_list=friends,\n",
    "#        ),\n",
    "#        outfile\n",
    "#    )"
   ]
  }
 ],
 "metadata": {
  "kernelspec": {
   "display_name": "Python 3 (ipykernel)",
   "language": "python",
   "name": "python3"
  },
  "language_info": {
   "codemirror_mode": {
    "name": "ipython",
    "version": 3
   },
   "file_extension": ".py",
   "mimetype": "text/x-python",
   "name": "python",
   "nbconvert_exporter": "python",
   "pygments_lexer": "ipython3",
   "version": "3.9.7"
  }
 },
 "nbformat": 4,
 "nbformat_minor": 5
}
